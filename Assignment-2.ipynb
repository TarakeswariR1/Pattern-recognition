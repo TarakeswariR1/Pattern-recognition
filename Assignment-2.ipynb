{
 "cells": [
  {
   "cell_type": "code",
   "execution_count": 385,
   "metadata": {},
   "outputs": [
    {
     "name": "stdout",
     "output_type": "stream",
     "text": [
      "Mean\t 49.673675\n",
      "\n",
      " Biased Variance\t 99.693624033375\n"
     ]
    },
    {
     "data": {
      "text/plain": [
       "<matplotlib.legend.Legend at 0x7f95f23f6e10>"
      ]
     },
     "execution_count": 385,
     "metadata": {},
     "output_type": "execute_result"
    },
    {
     "data": {
      "image/png": "[encoded data removed]",
      "text/plain": [
       "<Figure size 432x288 with 1 Axes>"
      ]
     },
     "metadata": {
      "needs_background": "light"
     },
     "output_type": "display_data"
    }
   ],
   "source": [
    "#Question 1\n",
    "\n",
    "import numpy as np\n",
    "import matplotlib.pyplot as plt\n",
    "import pandas as pd\n",
    "import statistics as st\n",
    "from scipy.stats import laplace\n",
    "\n",
    "colnames=['X']\n",
    "oneDfeatures=pd.read_table(\"http://www.cse.msu.edu/~rossarun/courses/sp22/cse802/data/hw02_data01.txt\", header=None, names=colnames)\n",
    "#Calculating the mean and the biased variance\n",
    "meanD=st.mean(oneDfeatures[\"X\"])\n",
    "oneD_min=min(oneDfeatures['X'])\n",
    "oneD_max=max(oneDfeatures['X'])\n",
    "bins_list=np.arange(oneD_min, oneD_max, 2)\n",
    "#Bin size is two generated values between min and max\n",
    "plt.hist(oneDfeatures, bins=bins_list,density=True, edgecolor =\"black\")\n",
    "a=(meanD-oneDfeatures[\"X\"])**2\n",
    "biasedVariance=np.mean(a)\n",
    "print(\"Mean\\t\", meanD)\n",
    "print(\"\\n Biased Variance\\t\", biasedVariance)\n",
    "newX=np.linspace(0, 100, 1000)\n",
    "part1=1/(np.sqrt((2 *np.pi)**2 * biasedVariance))\n",
    "part2=np.exp((-0.5)* (((newX-meanD)**2)/(2*biasedVariance)))\n",
    "gaussian=norm.pdf(newX, meanD, np.sqrt(biasedVariance)) \n",
    "laplacian=laplace.pdf(newX, meanD, np.sqrt(biasedVariance))\n",
    "plt.plot(newX, gaussian, label=\"Gaussian Distribution\")\n",
    "plt.plot(newX, laplacian, label=\"Laplacian Distribution\")\n",
    "plt.legend()\n"
   ]
  },
  {
   "cell_type": "code",
   "execution_count": null,
   "metadata": {},
   "outputs": [],
   "source": [
    "#Question 1 part E\n",
    "\n",
    "Explain which of the two parametric distributions better fit the data.\n",
    "\n",
    "When we analyse the above graph, at the tail of the distribution laplace is spread more in such away it covers all the points.\n",
    "Both the distribution have the same mean. But when we compared gaussian distribution it better fits the data.\n"
   ]
  },
  {
   "cell_type": "code",
   "execution_count": null,
   "metadata": {},
   "outputs": [],
   "source": [
    "#Question 2, 3, 6, 7 is in the Handwritten report submitted along with this code"
   ]
  },
  {
   "cell_type": "code",
   "execution_count": 240,
   "metadata": {},
   "outputs": [
    {
     "name": "stdout",
     "output_type": "stream",
     "text": [
      "Mean of Setosa(class 1) \t [5.0375     3.48333333 1.44166667 0.25      ]\n",
      "\n",
      " Mean of Versicolor (class 2) \t [5.99583333 2.77083333 4.3125     1.34583333]\n",
      "\n",
      " Mean of Virginica (class 3) \t [6.57083333 2.9125     5.6375     2.04166667]\n",
      "\n",
      " Covariance  of Setosa(class 1) \n",
      " [[0.16505435 0.1223913  0.02967391 0.01978261]\n",
      " [0.1223913  0.14144928 0.00811594 0.02304348]\n",
      " [0.02967391 0.00811594 0.03210145 0.00782609]\n",
      " [0.01978261 0.02304348 0.00782609 0.01130435]]\n",
      "\n",
      " Covariance of Versicolor (class 2) \n",
      " [[0.30650362 0.1120471  0.19483696 0.05498188]\n",
      " [0.1120471  0.12911232 0.09255435 0.04878623]\n",
      " [0.19483696 0.09255435 0.20548913 0.06679348]\n",
      " [0.05498188 0.04878623 0.06679348 0.04432971]]\n",
      "\n",
      " Covariance  of Virginica (class 3) \n",
      " [[0.54650362 0.12472826 0.45070652 0.06431159]\n",
      " [0.12472826 0.12983696 0.10211957 0.06206522]\n",
      " [0.45070652 0.10211957 0.43548913 0.0701087 ]\n",
      " [0.06431159 0.06206522 0.0701087  0.06775362]]\n",
      "\n",
      "\n",
      "Confusion Matrix of three class Classification \n",
      " [[25.  0.  0.]\n",
      " [ 0. 24.  1.]\n",
      " [ 0.  1. 24.]]\n",
      "\n",
      " Empirical Error rate \t 0.0273972602739726\n"
     ]
    }
   ],
   "source": [
    "#Question-4 \n",
    "#All the parts of the question is coded here.\n",
    "#Question 4 part B is in the report\n",
    "\n",
    "colnames=[\"X1\", \"X2\", \"X3\", \"X4\", \"Y\"]\n",
    "Iris_data=pd.read_table(\"http://www.cse.msu.edu/~rossarun/courses/sp22/cse802/data/iris_data.txt\", header=None, names=colnames)\n",
    "Iris_class1=np.array(Iris_data[Iris_data[\"Y\"]==1])\n",
    "Iris_class2=np.array(Iris_data[Iris_data[\"Y\"]==2])\n",
    "Iris_class3=np.array(Iris_data[Iris_data[\"Y\"]==3])\n",
    "\n",
    "#Class-1\n",
    "mu1=np.mean(Iris_class1[0:24, 0:4], axis=0)\n",
    "sigma1=np.cov(Iris_class1[0:24, 0:4], rowvar=0)\n",
    "#Class-2\n",
    "mu2=np.mean(Iris_class2[0:24, 0:4], axis=0)\n",
    "sigma2=np.cov(Iris_class2[0:24, 0:4], rowvar=0)\n",
    "#Class-3\n",
    "mu3=np.mean(Iris_class3[0:24, 0:4], axis=0)\n",
    "sigma3=np.cov(Iris_class3[0:24, 0:4], rowvar=0)\n",
    "\n",
    "print(\"Mean of Setosa(class 1) \\t\", mu1)\n",
    "print(\"\\n Mean of Versicolor (class 2) \\t\", mu2)\n",
    "print(\"\\n Mean of Virginica (class 3) \\t\", mu3)\n",
    "print(\"\\n Covariance  of Setosa(class 1) \\n\", sigma1)\n",
    "print(\"\\n Covariance of Versicolor (class 2) \\n\", sigma2)\n",
    "print(\"\\n Covariance  of Virginica (class 3) \\n\", sigma3)\n",
    "\n",
    "\n",
    "def ClassClassification(newX):\n",
    "    gaussianClass1=multivariate_normal.pdf(newX, mu1, sigma1)\n",
    "    gaussianClass2=multivariate_normal.pdf(newX, mu2, sigma2)\n",
    "    gaussianClass3=multivariate_normal.pdf(newX, mu3, sigma3)\n",
    "    classResult=max(gaussianClass1, gaussianClass2, gaussianClass3)\n",
    "    if(classResult==gaussianClass1):\n",
    "        return 1\n",
    "    elif(classResult==gaussianClass2):\n",
    "        return 2\n",
    "    else:\n",
    "        return 3\n",
    "    \n",
    "\n",
    "Iris_test1=Iris_class1[25:50, 0:4]\n",
    "Iris_test2=Iris_class2[25:50, 0:4]\n",
    "Iris_test3=Iris_class3[25:50, 0:4]\n",
    "Y1=Iris_class1[25:50, -1]\n",
    "Y2=Iris_class2[25:50, -1]\n",
    "Y3=Iris_class3[25:50, -1]\n",
    "confusionMatrix=np.zeros((3,3))\n",
    "n=len(Iris_test1)\n",
    "for i in range(0, n):\n",
    "    C1=ClassClassification(Iris_test1[i])\n",
    "    C2=ClassClassification(Iris_test2[i])\n",
    "    C3=ClassClassification(Iris_test3[i])\n",
    "    if(C1==Y1[i]):\n",
    "        confusionMatrix[0][0] = confusionMatrix[0][0]+1\n",
    "    elif(C1==2):\n",
    "        confusionMatrix[0][1] = confusionMatrix[0][1]+1\n",
    "    elif(C1==3):\n",
    "        confusionMatrix[0][2] = confusionMatrix[0][2]+1\n",
    "        \n",
    "    if(C2==1):\n",
    "        confusionMatrix[1][0] = confusionMatrix[1][0]+1\n",
    "    elif(C2==2):\n",
    "        confusionMatrix[1][1] = confusionMatrix[1][1]+1\n",
    "    elif(C2==3):\n",
    "        confusionMatrix[1][2] = confusionMatrix[1][2]+1\n",
    "        \n",
    "    if(C3==1):\n",
    "        confusionMatrix[2][0] = confusionMatrix[2][0]+1\n",
    "    elif(C3==2):\n",
    "        confusionMatrix[2][1] = confusionMatrix[2][1]+1\n",
    "    elif(C3==3):\n",
    "        confusionMatrix[2][2] = confusionMatrix[2][2]+1\n",
    "    \n",
    "    \n",
    "print(\"\\n\")\n",
    "print(\"Confusion Matrix of three class Classification \\n\", confusionMatrix)\n",
    "correctClass=confusionMatrix[0][0] + confusionMatrix[1][1] +confusionMatrix[2][2]\n",
    "empiricalError=(confusionMatrix[1][2] + confusionMatrix[2][1])/correctClass\n",
    "print(\"\\n Empirical Error rate \\t\", empiricalError)"
   ]
  },
  {
   "cell_type": "code",
   "execution_count": 391,
   "metadata": {},
   "outputs": [
    {
     "data": {
      "text/plain": [
       "<matplotlib.legend.Legend at 0x7f95f2d1be50>"
      ]
     },
     "execution_count": 391,
     "metadata": {},
     "output_type": "execute_result"
    },
    {
     "data": {
      "image/png": "[encoded data removed]",
      "text/plain": [
       "<Figure size 432x288 with 1 Axes>"
      ]
     },
     "metadata": {
      "needs_background": "light"
     },
     "output_type": "display_data"
    }
   ],
   "source": [
    "#Question 5\n",
    "#https://stackoverflow.com/questions/28766692/intersection-of-two-graphs-in-python-find-the-x-value\n",
    "#Question 5 part B, C,D is in the report\n",
    "#Decision regions is shown in doc file shared\n",
    "import random as rd\n",
    "\n",
    "data=np.linspace(0,1, 1000)\n",
    "ClassDens1= 2 - (np.multiply(2 ,data))\n",
    "ClassDens2=np.multiply(2, data)\n",
    "plt.plot(data,ClassDens1)\n",
    "plt.plot(data,ClassDens2)\n",
    "decisionPoints=[]\n",
    "Points=[]\n",
    "for i in range(0, len(data)):\n",
    "    classone=2- (2*data[i])\n",
    "    classtwo= 2* data[i]\n",
    "    if(data[i]<0.5):\n",
    "        decisionPoints.append(data[i])\n",
    "decisonRule=np.linspace(0,2, 1000)\n",
    "\n",
    "\n",
    "decisionPoints=[0.5 for i in range(0, 1000)]\n",
    "plt.plot(decisionPoints, decisonRule, label=\"0-1 loss boundary\")\n",
    "decisonRule1=np.linspace(0,2, 1000)\n",
    "decisionPoints1=[0.3 for i in range(0, 1000)]\n",
    "plt.plot(decisionPoints1, decisonRule1, label=\"Bayes boundary with cost 2 and 1\")\n",
    "plt.legend()"
   ]
  },
  {
   "cell_type": "code",
   "execution_count": 112,
   "metadata": {},
   "outputs": [
    {
     "data": {
      "image/png": "[encoded data removed]",
      "text/plain": [
       "<Figure size 432x288 with 1 Axes>"
      ]
     },
     "metadata": {
      "needs_background": "light"
     },
     "output_type": "display_data"
    }
   ],
   "source": [
    "#Question-6 - Part A\n",
    "plt.scatter(-1, -1, marker='*')\n",
    "plt.annotate(\"Class 1\", (-1,-1))\n",
    "plt.scatter(1, 1, marker='*')\n",
    "plt.annotate(\"Class 2\", (1,1))\n",
    "plt.scatter(0.5, 0.5)\n",
    "plt.annotate(\"Class 3 - 1\", (0.5, 0.5))\n",
    "plt.scatter(-0.5, -0.5)\n",
    "plt.annotate(\"Class 3 -2\", (-0.5, -0.5))\n",
    "plt.scatter(0.1, 0.1)\n",
    "plt.annotate(\"Point x\", (0.1, 0.1))\n",
    "plt.show()"
   ]
  },
  {
   "cell_type": "code",
   "execution_count": 317,
   "metadata": {},
   "outputs": [
    {
     "name": "stdout",
     "output_type": "stream",
     "text": [
      "Gaussian 1\t 0.047459571037821745\n",
      "\n",
      "Gaussian 2\t 0.07080136021368282\n",
      "\n",
      "Gaussian 3 (GMM)\t 0.1233307661057135\n"
     ]
    }
   ],
   "source": [
    "#Question 6 Part B\n",
    "#Question 6 part B is in the report\n",
    "import numpy as np\n",
    "\n",
    "mu1=np.array([-1, -1])\n",
    "sigma=np.array([[1, 0], [0, 1]])\n",
    "mu2=np.array([1, 1])\n",
    "mu31=np.array([0.5, 0.5])\n",
    "mu32=np.array([-0.5, -0.5])\n",
    "X=np.array([0.1, 0.1])\n",
    "sigma_determinate=np.linalg.det(sigma)\n",
    "sigma_inverse=np.linalg.inv(sigma)\n",
    "\n",
    "part1=1/(np.sqrt((2 *np.pi)**2 * sigma_determinate))\n",
    "part2=np.exp((-0.5)* np.transpose(X-mu31) * sigma_inverse * (X-mu31))\n",
    "\n",
    "\n",
    "gaussian_1=multivariate_normal.pdf(X, mu1, sigma)\n",
    "gaussian_2=multivariate_normal.pdf(X, mu2, sigma)\n",
    "gaussian_3=(0.5 * multivariate_normal.pdf(X, mu31, sigma))+(0.5 * multivariate_normal.pdf(X, mu32, sigma))\n",
    "print(\"Gaussian 1\\t\",gaussian_1)\n",
    "print(\"\\nGaussian 2\\t\",gaussian_2)\n",
    "print(\"\\nGaussian 3 (GMM)\\t\",gaussian_3)"
   ]
  },
  {
   "cell_type": "code",
   "execution_count": 382,
   "metadata": {},
   "outputs": [
    {
     "name": "stdout",
     "output_type": "stream",
     "text": [
      "\n",
      "Determinant  of a Covariance matrix\n",
      " 21.0\n",
      "\n",
      "Inverse of a Covariance matrix\n",
      " [[ 1.          0.          0.        ]\n",
      " [ 0.          0.23809524 -0.0952381 ]\n",
      " [ 0.         -0.0952381   0.23809524]]\n",
      "\n",
      "Eigen values\n",
      " [7. 3. 1.]\n",
      "\n",
      "Eigen vectors\n",
      " [[ 0.          0.          1.        ]\n",
      " [ 0.70710678  0.70710678  0.        ]\n",
      " [ 0.70710678 -0.70710678  0.        ]]\n",
      "\n",
      "Density at (0,0,0)`\n",
      " [[0.00728503]]\n",
      "\n",
      "Density at (5,5,5)`\n",
      " [[4.72706521e-07]]\n",
      "\n",
      "Euclidean Distance\n",
      " 6.928203230275509\n",
      "\n",
      "MahalanobisDistance\n",
      " 4.535573676110727\n"
     ]
    }
   ],
   "source": [
    "#Question 8\n",
    "#To calculate the eigen values, eigen vectors, Euclidean distance, Mahalanobis distance, determinate, covariance \n",
    "#I used numpy package and the formulae for the same is shown in the report. \n",
    "\n",
    "from scipy import stats\n",
    "from scipy.spatial.distance import cdist\n",
    "from scipy.spatial import distance\n",
    "#Part -1\n",
    "mean=np.array([[1,1,1]])\n",
    "covariance=np.array([[1, 0, 0], [0, 5, 2], [0, 2, 5]])\n",
    "X1=np.array([[0,0,0]])\n",
    "X2=np.array([[5,5,5]])\n",
    "determinate_matrix=np.linalg.det(covariance)\n",
    "inverse_covariance=np.linalg.inv(covariance)\n",
    "eigen_values, eigen_vectors=np.linalg.eig(covariance)\n",
    "\n",
    "part1=(1./(np.power(2.*np.pi, 3/2) * np.sqrt(determinate_matrix)))\n",
    "part2=np.exp(-0.5 * np.linalg.multi_dot([(X1.T - mean.T).T , inverse_covariance , (X1.T-mean.T)]))\n",
    "gaussian1=part1 * part2\n",
    "\n",
    "part11=(1./(np.power(2.*np.pi, 3/2) * np.sqrt(determinate_matrix)))\n",
    "part22=np.exp(-0.5 * np.linalg.multi_dot([(X2.T - mean.T).T , inverse_covariance , (X2.T-mean.T)]))\n",
    "gaussian2=part11 * part22\n",
    "euclideanDistance=np.linalg.norm(mean-X2)\n",
    "MahalanobisDistance=distance.mahalanobis(mean, X2, inverse_covariance)\n",
    "print(\"\\nDeterminant  of a Covariance matrix\\n\",determinate_matrix)\n",
    "print(\"\\nInverse of a Covariance matrix\\n\",inverse_covariance)\n",
    "print(\"\\nEigen values\\n\", eigen_values)\n",
    "print(\"\\nEigen vectors\\n\", eigen_vectors)\n",
    "print(\"\\nDensity at (0,0,0)`\\n\", gaussian1)\n",
    "print(\"\\nDensity at (5,5,5)`\\n\", gaussian2)\n",
    "print(\"\\nEuclidean Distance\\n\", euclideanDistance)\n",
    "print(\"\\nMahalanobisDistance\\n\", MahalanobisDistance)\n"
   ]
  },
  {
   "cell_type": "code",
   "execution_count": null,
   "metadata": {},
   "outputs": [],
   "source": []
  },
  {
   "cell_type": "code",
   "execution_count": null,
   "metadata": {},
   "outputs": [],
   "source": []
  }
 ],
 "metadata": {
  "kernelspec": {
   "display_name": "Python 3",
   "language": "python",
   "name": "python3"
  },
  "language_info": {
   "codemirror_mode": {
    "name": "ipython",
    "version": 3
   },
   "file_extension": ".py",
   "mimetype": "text/x-python",
   "name": "python",
   "nbconvert_exporter": "python",
   "pygments_lexer": "ipython3",
   "version": "3.7.7"
  }
 },
 "nbformat": 4,
 "nbformat_minor": 4
}
