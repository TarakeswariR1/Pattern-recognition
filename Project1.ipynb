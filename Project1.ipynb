{
 "cells": [
  {
   "cell_type": "code",
   "execution_count": 32,
   "metadata": {},
   "outputs": [],
   "source": [
    "import pandas as pd\n",
    "import numpy as np\n",
    "import seaborn as sns\n",
    "import random\n",
    "from sklearn.model_selection import train_test_split\n",
    "import tensorflow as tf\n",
    "import tensorflow.keras\n",
    "from tensorflow.keras.preprocessing.image import ImageDataGenerator\n",
    "from tensorflow.keras.optimizers import Adam\n",
    "from tensorflow.keras.callbacks import ModelCheckpoint, EarlyStopping, ReduceLROnPlateau\n",
    "from tensorflow.keras.models import Sequential\n",
    "from tensorflow.keras.layers import Conv2D, BatchNormalization, MaxPool2D, Flatten, Dense, Dropout\n",
    "import warnings\n",
    "import matplotlib.pyplot as plt\n",
    "\n"
   ]
  },
  {
   "cell_type": "code",
   "execution_count": 33,
   "metadata": {},
   "outputs": [],
   "source": [
    "trainDF=pd.read_csv(\"/Users/tarakeswariramachandra/Documents/Michigan State University/CSE 802/archive/sign_mnist_train.csv\")\n",
    "testDF = pd.read_csv('/Users/tarakeswariramachandra/Documents/Michigan State University/CSE 802/archive/sign_mnist_test.csv')\n",
    "Y_train = trainDF['label']\n",
    "trainDF.drop(['label'], axis=1, inplace=True)\n",
    "Y_test = testDF['label']\n",
    "testDF.drop(['label'], axis=1, inplace=True)\n"
   ]
  },
  {
   "cell_type": "code",
   "execution_count": 34,
   "metadata": {},
   "outputs": [],
   "source": [
    "size  = 28\n",
    "channels = 1\n",
    "batch = 128\n",
    "epochs = 50\n"
   ]
  },
  {
   "cell_type": "code",
   "execution_count": 35,
   "metadata": {},
   "outputs": [],
   "source": [
    "X_train = trainDF.values.reshape(trainDF.shape[0], size, size, channels)\n",
    "X_test = testDF.values.reshape(testDF.shape[0], size, size, channels)\n",
    "\n"
   ]
  },
  {
   "cell_type": "code",
   "execution_count": 36,
   "metadata": {},
   "outputs": [],
   "source": [
    "datagen = ImageDataGenerator(rescale=1./255,\n",
    "                             zoom_range=0.2,\n",
    "                             width_shift_range=.2, height_shift_range=.2,\n",
    "                             rotation_range=30,\n",
    "                             brightness_range=[0.8, 1.2],\n",
    "                             horizontal_flip=True)\n",
    "\n",
    "datagenRescale = ImageDataGenerator(rescale=1./255)\n",
    "\n",
    "X_train = datagen.flow(X_train, Y_train, batch_size=batch)\n",
    "\n",
    "X_test = datagenRescale.flow(X_test, Y_test)\n"
   ]
  },
  {
   "cell_type": "code",
   "execution_count": 37,
   "metadata": {},
   "outputs": [],
   "source": [
    "Model = Sequential([Conv2D(filters=32,  kernel_size=(3,3), activation=\"relu\", input_shape=(size,size,channels)),\n",
    "                    MaxPool2D(2,2, padding='same'),\n",
    "                    Dropout(0.2),\n",
    "                 \n",
    "                    Conv2D(filters=128,  kernel_size=(3,3), activation=\"relu\"),\n",
    "                    MaxPool2D(2,2, padding='same'),\n",
    "                    Dropout(0.2),\n",
    "                \n",
    "                    Conv2D(filters=512, kernel_size=(3,3), activation=\"relu\"),\n",
    "                    MaxPool2D(2,2, padding='same'),\n",
    "                    Dropout(0.2),\n",
    "                    \n",
    "                    \n",
    "                    Flatten(),\n",
    "                    \n",
    "                    Dense(units=4096, activation=\"relu\"),                 \n",
    "                    Dropout(0.2),\n",
    "                    \n",
    "                    Dense(units=1024, activation=\"relu\"),\n",
    "                    Dropout(0.2),\n",
    "                                  \n",
    "                    Dense(units=256, activation=\"relu\"),\n",
    "                    Dropout(0.2),\n",
    "                    \n",
    "                    Dense(units=25, activation=\"softmax\"),\n",
    "])\n",
    "\n",
    "\n",
    "Model.compile(optimizer='adam', loss=\"sparse_categorical_crossentropy\", metrics=[\"accuracy\"])\n",
    "\n"
   ]
  },
  {
   "cell_type": "code",
   "execution_count": 38,
   "metadata": {},
   "outputs": [],
   "source": [
    "checkpoint_filepath = 'best_model.hdf5'\n",
    "\n",
    "callback_checkpoint = ModelCheckpoint(filepath=checkpoint_filepath, save_weights_only=False, monitor='val_accuracy', mode='max', save_best_only=True)\n",
    "callback_learningrate = ReduceLROnPlateau(monitor='loss', mode='min', min_delta=0.01, patience=3, factor=.75, min_lr=0.00001, verbose=1)\n",
    "\n",
    "callbacks = [callback_checkpoint, callback_learningrate]"
   ]
  },
  {
   "cell_type": "code",
   "execution_count": 39,
   "metadata": {},
   "outputs": [
    {
     "name": "stdout",
     "output_type": "stream",
     "text": [
      "Train for 215 steps, validate for 225 steps\n",
      "Epoch 1/50\n",
      "215/215 [==============================] - 88s 411ms/step - loss: 2.9802 - accuracy: 0.0857 - val_loss: 2.8157 - val_accuracy: 0.1053\n",
      "Epoch 2/50\n",
      "215/215 [==============================] - 96s 448ms/step - loss: 2.0998 - accuracy: 0.2918 - val_loss: 1.6792 - val_accuracy: 0.4049\n",
      "Epoch 3/50\n",
      "215/215 [==============================] - 97s 453ms/step - loss: 1.3017 - accuracy: 0.5428 - val_loss: 0.9107 - val_accuracy: 0.6790\n",
      "Epoch 4/50\n",
      "215/215 [==============================] - 97s 449ms/step - loss: 0.9041 - accuracy: 0.6822 - val_loss: 0.5700 - val_accuracy: 0.8035\n",
      "Epoch 5/50\n",
      "215/215 [==============================] - 169s 786ms/step - loss: 0.6722 - accuracy: 0.7641 - val_loss: 0.2823 - val_accuracy: 0.8984\n",
      "Epoch 6/50\n",
      "215/215 [==============================] - 109s 508ms/step - loss: 0.5478 - accuracy: 0.8118 - val_loss: 0.3420 - val_accuracy: 0.8762\n",
      "Epoch 7/50\n",
      "215/215 [==============================] - 120s 556ms/step - loss: 0.4623 - accuracy: 0.8403 - val_loss: 0.1811 - val_accuracy: 0.9391\n",
      "Epoch 8/50\n",
      "215/215 [==============================] - 119s 554ms/step - loss: 0.3945 - accuracy: 0.8669 - val_loss: 0.1262 - val_accuracy: 0.9644\n",
      "Epoch 9/50\n",
      "215/215 [==============================] - 104s 483ms/step - loss: 0.3489 - accuracy: 0.8835 - val_loss: 0.1431 - val_accuracy: 0.9527\n",
      "Epoch 10/50\n",
      "215/215 [==============================] - 107s 497ms/step - loss: 0.3202 - accuracy: 0.8942 - val_loss: 0.1634 - val_accuracy: 0.9449\n",
      "Epoch 11/50\n",
      "215/215 [==============================] - 109s 507ms/step - loss: 0.2755 - accuracy: 0.9066 - val_loss: 0.1056 - val_accuracy: 0.9590\n",
      "Epoch 12/50\n",
      "215/215 [==============================] - 108s 503ms/step - loss: 0.2628 - accuracy: 0.9120 - val_loss: 0.0942 - val_accuracy: 0.9610\n",
      "Epoch 13/50\n",
      "215/215 [==============================] - 108s 501ms/step - loss: 0.2436 - accuracy: 0.9210 - val_loss: 0.1575 - val_accuracy: 0.9439\n",
      "Epoch 14/50\n",
      "215/215 [==============================] - 93s 435ms/step - loss: 0.2254 - accuracy: 0.9267 - val_loss: 0.1261 - val_accuracy: 0.9583\n",
      "Epoch 15/50\n",
      "215/215 [==============================] - 87s 403ms/step - loss: 0.2086 - accuracy: 0.9308 - val_loss: 0.0767 - val_accuracy: 0.9702\n",
      "Epoch 16/50\n",
      "215/215 [==============================] - 85s 394ms/step - loss: 0.2032 - accuracy: 0.9337 - val_loss: 0.1114 - val_accuracy: 0.9610\n",
      "Epoch 17/50\n",
      "215/215 [==============================] - 85s 395ms/step - loss: 0.1854 - accuracy: 0.9401 - val_loss: 0.0776 - val_accuracy: 0.9742\n",
      "Epoch 18/50\n",
      "215/215 [==============================] - 84s 391ms/step - loss: 0.1876 - accuracy: 0.9397 - val_loss: 0.0481 - val_accuracy: 0.9862\n",
      "Epoch 19/50\n",
      "215/215 [==============================] - 85s 395ms/step - loss: 0.1772 - accuracy: 0.9426 - val_loss: 0.0632 - val_accuracy: 0.9806\n",
      "Epoch 20/50\n",
      "215/215 [==============================] - 84s 389ms/step - loss: 0.1697 - accuracy: 0.9459 - val_loss: 0.0526 - val_accuracy: 0.9863\n",
      "Epoch 21/50\n",
      "215/215 [==============================] - 1018s 5s/step - loss: 0.1679 - accuracy: 0.9457 - val_loss: 0.0610 - val_accuracy: 0.9827\n",
      "Epoch 22/50\n",
      "215/215 [==============================] - 1233s 6s/step - loss: 0.1643 - accuracy: 0.9483 - val_loss: 0.0291 - val_accuracy: 0.9918\n",
      "Epoch 23/50\n",
      "215/215 [==============================] - 270s 1s/step - loss: 0.1485 - accuracy: 0.9517 - val_loss: 0.0682 - val_accuracy: 0.9798\n",
      "Epoch 24/50\n",
      "215/215 [==============================] - 316s 1s/step - loss: 0.1543 - accuracy: 0.9507 - val_loss: 0.0428 - val_accuracy: 0.9838\n",
      "Epoch 25/50\n",
      "215/215 [==============================] - 313s 1s/step - loss: 0.1462 - accuracy: 0.9539 - val_loss: 0.0374 - val_accuracy: 0.9837\n",
      "Epoch 26/50\n",
      "214/215 [============================>.] - ETA: 1s - loss: 0.1405 - accuracy: 0.9555\n",
      "Epoch 00026: ReduceLROnPlateau reducing learning rate to 0.0007500000356230885.\n",
      "215/215 [==============================] - 312s 1s/step - loss: 0.1415 - accuracy: 0.9552 - val_loss: 0.0553 - val_accuracy: 0.9833\n",
      "Epoch 27/50\n",
      "215/215 [==============================] - 299s 1s/step - loss: 0.1222 - accuracy: 0.9614 - val_loss: 0.0511 - val_accuracy: 0.9816\n",
      "Epoch 28/50\n",
      "215/215 [==============================] - 308s 1s/step - loss: 0.1097 - accuracy: 0.9639 - val_loss: 0.0434 - val_accuracy: 0.9835\n",
      "Epoch 29/50\n",
      "215/215 [==============================] - 313s 1s/step - loss: 0.1143 - accuracy: 0.9645 - val_loss: 0.0476 - val_accuracy: 0.9847\n",
      "Epoch 30/50\n",
      "215/215 [==============================] - 313s 1s/step - loss: 0.1062 - accuracy: 0.9650 - val_loss: 0.0260 - val_accuracy: 0.9919\n",
      "Epoch 31/50\n",
      "214/215 [============================>.] - ETA: 1s - loss: 0.1105 - accuracy: 0.9644\n",
      "Epoch 00031: ReduceLROnPlateau reducing learning rate to 0.0005625000048894435.\n",
      "215/215 [==============================] - 320s 1s/step - loss: 0.1108 - accuracy: 0.9644 - val_loss: 0.0326 - val_accuracy: 0.9880\n",
      "Epoch 32/50\n",
      "215/215 [==============================] - 323s 2s/step - loss: 0.0954 - accuracy: 0.9709 - val_loss: 0.0399 - val_accuracy: 0.9908\n",
      "Epoch 33/50\n",
      "215/215 [==============================] - 316s 1s/step - loss: 0.0815 - accuracy: 0.9727 - val_loss: 0.0477 - val_accuracy: 0.9876\n",
      "Epoch 34/50\n",
      "215/215 [==============================] - 318s 1s/step - loss: 0.0879 - accuracy: 0.9725 - val_loss: 0.0320 - val_accuracy: 0.9905\n",
      "Epoch 35/50\n",
      "215/215 [==============================] - 318s 1s/step - loss: 0.0822 - accuracy: 0.9738 - val_loss: 0.0543 - val_accuracy: 0.9844\n",
      "Epoch 36/50\n",
      "214/215 [============================>.] - ETA: 6s - loss: 0.0831 - accuracy: 0.9748 \n",
      "Epoch 00036: ReduceLROnPlateau reducing learning rate to 0.0004218749818392098.\n",
      "215/215 [==============================] - 1336s 6s/step - loss: 0.0833 - accuracy: 0.9748 - val_loss: 0.0257 - val_accuracy: 0.9940\n",
      "Epoch 37/50\n",
      "215/215 [==============================] - 317s 1s/step - loss: 0.0768 - accuracy: 0.9754 - val_loss: 0.0194 - val_accuracy: 0.9937\n",
      "Epoch 38/50\n",
      "215/215 [==============================] - 316s 1s/step - loss: 0.0701 - accuracy: 0.9787 - val_loss: 0.0162 - val_accuracy: 0.9953\n",
      "Epoch 39/50\n",
      "215/215 [==============================] - 318s 1s/step - loss: 0.0643 - accuracy: 0.9792 - val_loss: 0.0251 - val_accuracy: 0.9926\n",
      "Epoch 40/50\n",
      "215/215 [==============================] - 314s 1s/step - loss: 0.0595 - accuracy: 0.9799 - val_loss: 0.0265 - val_accuracy: 0.9898\n",
      "Epoch 41/50\n",
      "215/215 [==============================] - 316s 1s/step - loss: 0.0643 - accuracy: 0.9797 - val_loss: 0.0179 - val_accuracy: 0.9943\n",
      "Epoch 42/50\n",
      "215/215 [==============================] - 317s 1s/step - loss: 0.0665 - accuracy: 0.9792 - val_loss: 0.0229 - val_accuracy: 0.9923\n",
      "Epoch 43/50\n",
      "214/215 [============================>.] - ETA: 1s - loss: 0.0665 - accuracy: 0.9788\n",
      "Epoch 00043: ReduceLROnPlateau reducing learning rate to 0.00031640623637940735.\n",
      "215/215 [==============================] - 316s 1s/step - loss: 0.0664 - accuracy: 0.9789 - val_loss: 0.0217 - val_accuracy: 0.9930\n",
      "Epoch 44/50\n",
      "215/215 [==============================] - 315s 1s/step - loss: 0.0574 - accuracy: 0.9818 - val_loss: 0.0253 - val_accuracy: 0.9922\n",
      "Epoch 45/50\n",
      "215/215 [==============================] - 321s 1s/step - loss: 0.0585 - accuracy: 0.9811 - val_loss: 0.0124 - val_accuracy: 0.9968\n",
      "Epoch 46/50\n",
      "214/215 [============================>.] - ETA: 1s - loss: 0.0535 - accuracy: 0.9822\n",
      "Epoch 00046: ReduceLROnPlateau reducing learning rate to 0.00023730468819849193.\n",
      "215/215 [==============================] - 317s 1s/step - loss: 0.0534 - accuracy: 0.9822 - val_loss: 0.0288 - val_accuracy: 0.9875\n",
      "Epoch 47/50\n",
      "215/215 [==============================] - 317s 1s/step - loss: 0.0497 - accuracy: 0.9850 - val_loss: 0.0149 - val_accuracy: 0.9948\n",
      "Epoch 48/50\n",
      "215/215 [==============================] - 320s 1s/step - loss: 0.0559 - accuracy: 0.9826 - val_loss: 0.0151 - val_accuracy: 0.9946\n",
      "Epoch 49/50\n",
      "214/215 [============================>.] - ETA: 22s - loss: 0.0500 - accuracy: 0.9844\n",
      "Epoch 00049: ReduceLROnPlateau reducing learning rate to 0.00017797851614886895.\n",
      "215/215 [==============================] - 4863s 23s/step - loss: 0.0500 - accuracy: 0.9844 - val_loss: 0.0166 - val_accuracy: 0.9947\n",
      "Epoch 50/50\n"
     ]
    },
    {
     "name": "stdout",
     "output_type": "stream",
     "text": [
      "215/215 [==============================] - 310s 1s/step - loss: 0.0491 - accuracy: 0.9843 - val_loss: 0.0187 - val_accuracy: 0.9948\n"
     ]
    }
   ],
   "source": [
    "history = Model.fit(X_train, validation_data=X_test, epochs=epochs, callbacks=callbacks)\n",
    "\n"
   ]
  },
  {
   "cell_type": "code",
   "execution_count": 41,
   "metadata": {},
   "outputs": [
    {
     "name": "stdout",
     "output_type": "stream",
     "text": [
      "The accuracy of the model is \t: 0.98430157\n"
     ]
    }
   ],
   "source": [
    "acc = history.history['accuracy']\n",
    "val_acc = history.history['val_accuracy']\n",
    "loss = history.history['loss']\n",
    "val_loss = history.history['val_loss']\n",
    "epochs_range = range(len(acc))\n",
    "print(\"The accuracy of the model is \\t:\", acc[-1])\n",
    "\n"
   ]
  },
  {
   "cell_type": "code",
   "execution_count": 42,
   "metadata": {},
   "outputs": [
    {
     "data": {
      "image/png": "[encoded data removed]",
      "text/plain": [
       "<Figure size 1080x1080 with 2 Axes>"
      ]
     },
     "metadata": {
      "needs_background": "light"
     },
     "output_type": "display_data"
    }
   ],
   "source": [
    "plt.figure(figsize=(15, 15))\n",
    "plt.subplot(2, 2, 1)\n",
    "plt.plot(epochs_range, acc, label='Training Accuracy')\n",
    "plt.plot(epochs_range, val_acc, label='Validation Accuracy')\n",
    "plt.legend(loc='lower right')\n",
    "plt.title('Training and Validation Accuracy')\n",
    "\n",
    "plt.subplot(2, 2, 2)\n",
    "plt.plot(epochs_range, loss, label='Training Loss')\n",
    "plt.plot(epochs_range, val_loss, label='Validation Loss')\n",
    "plt.legend(loc='upper right')\n",
    "plt.title('Training and Validation Loss')\n",
    "plt.show()\n"
   ]
  },
  {
   "cell_type": "code",
   "execution_count": 46,
   "metadata": {},
   "outputs": [
    {
     "name": "stdout",
     "output_type": "stream",
     "text": [
      "225/225 [==============================] - 8s 37ms/step - loss: 0.0187 - accuracy: 0.9948\n",
      "Test loss: 0.018691226294193054\n",
      "Test accuracy: 0.99484104\n"
     ]
    }
   ],
   "source": [
    "score = Model.evaluate(X_test) \n",
    "\n",
    "print('Test loss:', score[0]) \n",
    "print('Test accuracy:', score[1])\n"
   ]
  },
  {
   "cell_type": "code",
   "execution_count": null,
   "metadata": {},
   "outputs": [],
   "source": [
    "yHat = history.history.predict(X_test)\n",
    "Yclasses = np.argmax(yHat,axis = 1)\n",
    "Y_true = np.argmax(Y_test,axis = 1) \n",
    "confusion_matrix(Y_test, yHat)"
   ]
  }
 ],
 "metadata": {
  "kernelspec": {
   "display_name": "Python 3",
   "language": "python",
   "name": "python3"
  },
  "language_info": {
   "codemirror_mode": {
    "name": "ipython",
    "version": 3
   },
   "file_extension": ".py",
   "mimetype": "text/x-python",
   "name": "python",
   "nbconvert_exporter": "python",
   "pygments_lexer": "ipython3",
   "version": "3.7.7"
  }
 },
 "nbformat": 4,
 "nbformat_minor": 4
}
