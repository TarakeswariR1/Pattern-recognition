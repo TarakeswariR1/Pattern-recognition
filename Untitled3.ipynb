{
 "cells": [
  {
   "cell_type": "code",
   "execution_count": 1,
   "metadata": {},
   "outputs": [],
   "source": [
    "#CSE 802 Project\n",
    "\n",
    "import numpy as np\n",
    "import pandas as pd\n",
    "from pathlib import Path\n",
    "import os.path\n",
    "import matplotlib.pyplot as plt\n",
    "from IPython.display import Image, display, Markdown\n",
    "import matplotlib.cm as cm\n",
    "from sklearn.metrics import confusion_matrix,accuracy_score, classification_report\n",
    "import tensorflow as tf\n",
    "from tensorflow.keras.models import Sequential\n",
    "from tensorflow.keras.layers import Conv2D, MaxPool2D, Flatten, Dense, Dropout, BatchNormalization\n",
    "from tensorflow.keras.callbacks import ReduceLROnPlateau\n",
    "from time import perf_counter\n",
    "import seaborn as sns\n",
    "\n"
   ]
  },
  {
   "cell_type": "code",
   "execution_count": 6,
   "metadata": {},
   "outputs": [
    {
     "data": {
      "image/png": "[encoded data removed]",
      "text/plain": [
       "<Figure size 1440x360 with 1 Axes>"
      ]
     },
     "metadata": {
      "needs_background": "light"
     },
     "output_type": "display_data"
    }
   ],
   "source": [
    "#Reading training data\n",
    "trainDF=pd.read_csv(\"/Users/tarakeswariramachandra/Documents/Michigan State University/CSE 802/archive/sign_mnist_train.csv\")\n",
    "trainDF.head(5)\n",
    "nrow=trainDF.shape[0]\n",
    "ncol=trainDF.shape[1]\n",
    "\n",
    "#Calculating the distribution of classes\n",
    "\n",
    "LabelCount=trainDF['label'].value_counts()\n",
    "\n",
    "#Plotting this to visualize the distribution\n",
    "plt.figure(figsize=(20, 5))\n",
    "sns.barplot(x=sorted(LabelCount.index), y=LabelCount)\n",
    "plt.title(\"Sign Language class distribution\")\n",
    "plt.show()\n",
    "\n",
    "\n",
    "\n"
   ]
  },
  {
   "cell_type": "code",
   "execution_count": 10,
   "metadata": {},
   "outputs": [
    {
     "data": {
      "text/plain": [
       "((18015, 28, 28, 1), (2001, 28, 28, 1), (18015,), (2001,))"
      ]
     },
     "execution_count": 10,
     "metadata": {},
     "output_type": "execute_result"
    }
   ],
   "source": [
    "#Creating three set, training, validation and test set\n",
    "\n",
    "trainDF1=trainDF.copy()\n",
    "valIndex=int(trainDF.shape[0]*0.1)\n",
    "trainDF=trainDF1.iloc[valIndex:]\n",
    "valDF=trainDF1.iloc[:valIndex]\n",
    "\n",
    "Y_train=trainDF['label']\n",
    "Y_val=valDF['label']\n",
    "\n",
    "X_train=trainDF.drop('label', axis=1).values.reshape(trainDF.shape[0], 28, 28, 1)\n",
    "X_val=valDF.drop('label', axis=1).values.reshape(valDF.shape[0], 28, 28, 1)\n",
    "X_train.shape, X_val.shape, Y_train.shape, Y_val.shape"
   ]
  },
  {
   "cell_type": "code",
   "execution_count": 23,
   "metadata": {},
   "outputs": [
    {
     "name": "stdout",
     "output_type": "stream",
     "text": [
      "Collecting package metadata (current_repodata.json): done\n",
      "Solving environment: done\n",
      "\n",
      "## Package Plan ##\n",
      "\n",
      "  environment location: /Users/tarakeswariramachandra/opt/anaconda3/envs/my-rdkit-env\n",
      "\n",
      "  added / updated specs:\n",
      "    - seaborn\n",
      "\n",
      "\n",
      "The following packages will be downloaded:\n",
      "\n",
      "    package                    |            build\n",
      "    ---------------------------|-----------------\n",
      "    ca-certificates-2022.3.29  |       hecd8cb5_0         118 KB\n",
      "    openssl-1.1.1n             |       hca72f7f_0         2.2 MB\n",
      "    seaborn-0.11.2             |     pyhd3eb1b0_0         218 KB\n",
      "    ------------------------------------------------------------\n",
      "                                           Total:         2.5 MB\n",
      "\n",
      "The following NEW packages will be INSTALLED:\n",
      "\n",
      "  seaborn            pkgs/main/noarch::seaborn-0.11.2-pyhd3eb1b0_0\n",
      "\n",
      "The following packages will be UPDATED:\n",
      "\n",
      "  ca-certificates                       2022.2.1-hecd8cb5_0 --> 2022.3.29-hecd8cb5_0\n",
      "  openssl                                 1.1.1m-hca72f7f_0 --> 1.1.1n-hca72f7f_0\n",
      "\n",
      "\n",
      "\n",
      "Downloading and Extracting Packages\n",
      "ca-certificates-2022 | 118 KB    | ##################################### | 100% \n",
      "openssl-1.1.1n       | 2.2 MB    | ##################################### | 100% \n",
      "seaborn-0.11.2       | 218 KB    | ##################################### | 100% \n",
      "Preparing transaction: done\n",
      "Verifying transaction: done\n",
      "Executing transaction: done\n",
      "\n",
      "Note: you may need to restart the kernel to use updated packages.\n"
     ]
    }
   ],
   "source": [
    "conda install seaborn"
   ]
  },
  {
   "cell_type": "code",
   "execution_count": null,
   "metadata": {},
   "outputs": [],
   "source": []
  }
 ],
 "metadata": {
  "kernelspec": {
   "display_name": "Python 3",
   "language": "python",
   "name": "python3"
  },
  "language_info": {
   "codemirror_mode": {
    "name": "ipython",
    "version": 3
   },
   "file_extension": ".py",
   "mimetype": "text/x-python",
   "name": "python",
   "nbconvert_exporter": "python",
   "pygments_lexer": "ipython3",
   "version": "3.7.7"
  }
 },
 "nbformat": 4,
 "nbformat_minor": 4
}
